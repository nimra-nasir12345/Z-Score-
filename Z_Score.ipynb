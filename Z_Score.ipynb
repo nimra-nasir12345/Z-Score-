{
  "nbformat": 4,
  "nbformat_minor": 0,
  "metadata": {
    "colab": {
      "name": "Z Score.ipynb",
      "provenance": []
    },
    "kernelspec": {
      "name": "python3",
      "display_name": "Python 3"
    },
    "language_info": {
      "name": "python"
    }
  },
  "cells": [
    {
      "cell_type": "code",
      "execution_count": 1,
      "metadata": {
        "id": "VmbHNLKk1IXF"
      },
      "outputs": [],
      "source": [
        "import numpy as np\n",
        "import pandas as pd\n",
        "import scipy.stats as stats"
      ]
    },
    {
      "cell_type": "markdown",
      "source": [
        "# **Step 1 : import modules**\n",
        "# step 2 : create an array of values **bold text**"
      ],
      "metadata": {
        "id": "I3CZ9_MS2gQi"
      }
    },
    {
      "cell_type": "code",
      "source": [
        "data = np.array([2,4,6,89,4,56,7,12,44,22,23,16]) "
      ],
      "metadata": {
        "id": "XNzaqSCj2rv9"
      },
      "execution_count": 3,
      "outputs": []
    },
    {
      "cell_type": "markdown",
      "source": [
        "# **create the z Score for each value in the array**"
      ],
      "metadata": {
        "id": "b6EB48Nd4Qj7"
      }
    },
    {
      "cell_type": "code",
      "source": [
        "stats.zscore(data)"
      ],
      "metadata": {
        "colab": {
          "base_uri": "https://localhost:8080/"
        },
        "id": "4RXOO8xD3JbB",
        "outputId": "3e2cae93-33b0-40fe-aefc-b4c41bda11b0"
      },
      "execution_count": 4,
      "outputs": [
        {
          "output_type": "execute_result",
          "data": {
            "text/plain": [
              "array([-0.85539754, -0.7767403 , -0.69808305,  2.56619263, -0.7767403 ,\n",
              "        1.26834808, -0.65875443, -0.46211132,  0.79640461, -0.06882509,\n",
              "       -0.02949647, -0.30479683])"
            ]
          },
          "metadata": {},
          "execution_count": 4
        }
      ]
    },
    {
      "cell_type": "markdown",
      "source": [
        "Each Z Score tells us how many standard deviations value is from the mean For example:\n",
        "### the first value of \"6\" in  the array is 1.394 standard deviation below th mean.the fifth value of \"13\" in the array is 0 standard deviation away from the mean. it is equal to the mean the last value of \"22\" in the array is 1.793 standard deviation above from  the mean."
      ],
      "metadata": {
        "id": "pUsNVtKQ4ZGb"
      }
    }
  ]
}